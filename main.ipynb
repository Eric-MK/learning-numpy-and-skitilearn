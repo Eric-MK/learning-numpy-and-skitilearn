{
 "cells": [
  {
   "cell_type": "code",
   "execution_count": 1,
   "metadata": {},
   "outputs": [],
   "source": [
    "import numpy as np"
   ]
  },
  {
   "cell_type": "code",
   "execution_count": 2,
   "metadata": {},
   "outputs": [
    {
     "name": "stdout",
     "output_type": "stream",
     "text": [
      "[1 2 3 4 5]\n"
     ]
    }
   ],
   "source": [
    "a = np.array([1,2,3,4,5])\n",
    "\n",
    "print(a)"
   ]
  },
  {
   "cell_type": "code",
   "execution_count": 3,
   "metadata": {},
   "outputs": [
    {
     "data": {
      "text/plain": [
       "numpy.ndarray"
      ]
     },
     "execution_count": 3,
     "metadata": {},
     "output_type": "execute_result"
    }
   ],
   "source": [
    "type(a)"
   ]
  },
  {
   "cell_type": "code",
   "execution_count": 4,
   "metadata": {},
   "outputs": [
    {
     "name": "stdout",
     "output_type": "stream",
     "text": [
      "(4, 4)\n"
     ]
    }
   ],
   "source": [
    "\n",
    "a_mul = np.array([[1,2,3,1],\n",
    "                  [4,5,6,7],\n",
    "                  [6,8,9,3],\n",
    "                  [5,6,8,8]])\n",
    "\n",
    "print(a_mul.shape)"
   ]
  },
  {
   "cell_type": "code",
   "execution_count": 5,
   "metadata": {},
   "outputs": [
    {
     "name": "stdout",
     "output_type": "stream",
     "text": [
      "2\n"
     ]
    }
   ],
   "source": [
    "print(a_mul.ndim)\n"
   ]
  },
  {
   "cell_type": "code",
   "execution_count": 6,
   "metadata": {},
   "outputs": [
    {
     "name": "stdout",
     "output_type": "stream",
     "text": [
      "16\n"
     ]
    }
   ],
   "source": [
    "print(a_mul.size)\n"
   ]
  },
  {
   "cell_type": "code",
   "execution_count": 7,
   "metadata": {},
   "outputs": [
    {
     "name": "stdout",
     "output_type": "stream",
     "text": [
      "[[[1 2 3 1]\n",
      "  [4 5 6 7]\n",
      "  [5 6 8 8]]\n",
      "\n",
      " [[1 1 1 1]\n",
      "  [1 1 1 1]\n",
      "  [1 1 1 1]]]\n"
     ]
    }
   ],
   "source": [
    "a_mull = np.array([[[1,2,3,1],\n",
    "                    [4,5,6,7],\n",
    "                    [5,6,8,8]],\n",
    "                 [[1,1,1,1],\n",
    "                  [1,1,1,1],\n",
    "                  [1,1,1,1]]])\n",
    "\n",
    "print(a_mull)"
   ]
  },
  {
   "cell_type": "code",
   "execution_count": 8,
   "metadata": {},
   "outputs": [
    {
     "name": "stdout",
     "output_type": "stream",
     "text": [
      "(2, 3, 4)\n"
     ]
    }
   ],
   "source": [
    "print(a_mull.shape)"
   ]
  },
  {
   "cell_type": "code",
   "execution_count": 9,
   "metadata": {},
   "outputs": [
    {
     "name": "stdout",
     "output_type": "stream",
     "text": [
      "3\n"
     ]
    }
   ],
   "source": [
    "print(a_mull.ndim)\n"
   ]
  },
  {
   "cell_type": "code",
   "execution_count": 10,
   "metadata": {},
   "outputs": [
    {
     "name": "stdout",
     "output_type": "stream",
     "text": [
      "[[[9 9 9 9]\n",
      "  [9 9 9 9]\n",
      "  [9 9 9 9]]\n",
      "\n",
      " [[9 9 9 9]\n",
      "  [9 9 9 9]\n",
      "  [9 9 9 9]]]\n"
     ]
    }
   ],
   "source": [
    "a = np.full((2,3,4), 9)\n",
    "\n",
    "print(a)"
   ]
  },
  {
   "cell_type": "code",
   "execution_count": 11,
   "metadata": {},
   "outputs": [],
   "source": [
    "x_values = np.arange(0, 1000, 5)\n",
    "\n",
    "\n"
   ]
  },
  {
   "cell_type": "code",
   "execution_count": 12,
   "metadata": {},
   "outputs": [
    {
     "name": "stdout",
     "output_type": "stream",
     "text": [
      "[  0   5  10  15  20  25  30  35  40  45  50  55  60  65  70  75  80  85\n",
      "  90  95 100 105 110 115 120 125 130 135 140 145 150 155 160 165 170 175\n",
      " 180 185 190 195 200 205 210 215 220 225 230 235 240 245 250 255 260 265\n",
      " 270 275 280 285 290 295 300 305 310 315 320 325 330 335 340 345 350 355\n",
      " 360 365 370 375 380 385 390 395 400 405 410 415 420 425 430 435 440 445\n",
      " 450 455 460 465 470 475 480 485 490 495 500 505 510 515 520 525 530 535\n",
      " 540 545 550 555 560 565 570 575 580 585 590 595 600 605 610 615 620 625\n",
      " 630 635 640 645 650 655 660 665 670 675 680 685 690 695 700 705 710 715\n",
      " 720 725 730 735 740 745 750 755 760 765 770 775 780 785 790 795 800 805\n",
      " 810 815 820 825 830 835 840 845 850 855 860 865 870 875 880 885 890 895\n",
      " 900 905 910 915 920 925 930 935 940 945 950 955 960 965 970 975 980 985\n",
      " 990 995]\n"
     ]
    }
   ],
   "source": [
    "x_values = np.arange(0, 1000, 5)  #  generating an array x_values with values starting from 0, incrementing by 5, and stopping before 1000.\n",
    " \n",
    "print(x_values) "
   ]
  },
  {
   "cell_type": "code",
   "execution_count": 13,
   "metadata": {},
   "outputs": [
    {
     "name": "stdout",
     "output_type": "stream",
     "text": [
      "[   0.           10.1010101    20.2020202    30.3030303    40.4040404\n",
      "   50.50505051   60.60606061   70.70707071   80.80808081   90.90909091\n",
      "  101.01010101  111.11111111  121.21212121  131.31313131  141.41414141\n",
      "  151.51515152  161.61616162  171.71717172  181.81818182  191.91919192\n",
      "  202.02020202  212.12121212  222.22222222  232.32323232  242.42424242\n",
      "  252.52525253  262.62626263  272.72727273  282.82828283  292.92929293\n",
      "  303.03030303  313.13131313  323.23232323  333.33333333  343.43434343\n",
      "  353.53535354  363.63636364  373.73737374  383.83838384  393.93939394\n",
      "  404.04040404  414.14141414  424.24242424  434.34343434  444.44444444\n",
      "  454.54545455  464.64646465  474.74747475  484.84848485  494.94949495\n",
      "  505.05050505  515.15151515  525.25252525  535.35353535  545.45454545\n",
      "  555.55555556  565.65656566  575.75757576  585.85858586  595.95959596\n",
      "  606.06060606  616.16161616  626.26262626  636.36363636  646.46464646\n",
      "  656.56565657  666.66666667  676.76767677  686.86868687  696.96969697\n",
      "  707.07070707  717.17171717  727.27272727  737.37373737  747.47474747\n",
      "  757.57575758  767.67676768  777.77777778  787.87878788  797.97979798\n",
      "  808.08080808  818.18181818  828.28282828  838.38383838  848.48484848\n",
      "  858.58585859  868.68686869  878.78787879  888.88888889  898.98989899\n",
      "  909.09090909  919.19191919  929.29292929  939.39393939  949.49494949\n",
      "  959.5959596   969.6969697   979.7979798   989.8989899  1000.        ]\n"
     ]
    }
   ],
   "source": [
    "x_values = np.linspace(0, 1000, 100)\n",
    "\n",
    "print(x_values) #generating an array x_values with 100 values that are evenly spaced between 0 and 1000 (inclusive).\n"
   ]
  },
  {
   "cell_type": "code",
   "execution_count": null,
   "metadata": {},
   "outputs": [],
   "source": []
  },
  {
   "cell_type": "code",
   "execution_count": 14,
   "metadata": {},
   "outputs": [
    {
     "name": "stdout",
     "output_type": "stream",
     "text": [
      "[[2 3 4]\n",
      " [3 4 5]]\n"
     ]
    }
   ],
   "source": [
    "l1 = [1,2,3]\n",
    "\n",
    "\n",
    "\n",
    "a1 = np.array(l1)\n",
    "a2 = np.array([[1],\n",
    "              [2]])\n",
    "\n",
    "\n",
    "\n",
    "print(a1 + a2)\n",
    "\n"
   ]
  },
  {
   "cell_type": "code",
   "execution_count": 24,
   "metadata": {},
   "outputs": [
    {
     "name": "stdout",
     "output_type": "stream",
     "text": [
      "[[1 2 3]]\n",
      "6\n"
     ]
    }
   ],
   "source": [
    "a = np.array([[1,2,3],\n",
    "              [4,5,6]])\n",
    "\n",
    "print(np.delete(a, 1, 0)) # get rid of second row, delete a row with index 1\n",
    "\n",
    "print(a.size)\n",
    "\n"
   ]
  }
 ],
 "metadata": {
  "kernelspec": {
   "display_name": "notebook_env",
   "language": "python",
   "name": "python3"
  },
  "language_info": {
   "codemirror_mode": {
    "name": "ipython",
    "version": 3
   },
   "file_extension": ".py",
   "mimetype": "text/x-python",
   "name": "python",
   "nbconvert_exporter": "python",
   "pygments_lexer": "ipython3",
   "version": "3.11.5"
  }
 },
 "nbformat": 4,
 "nbformat_minor": 2
}
